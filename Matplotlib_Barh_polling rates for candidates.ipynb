{
 "cells": [
  {
   "cell_type": "code",
   "execution_count": 21,
   "metadata": {},
   "outputs": [],
   "source": [
    "import matplotlib.pyplot as plt\n",
    "import numpy as np\n",
    "import operator\n",
    "from matplotlib import font_manager, rc\n",
    "from matplotlib import style\n",
    "\n",
    "font_name = font_manager.FontProperties(fname=\"C:/Windows/Fonts/H2GTRE.TTF\").get_name() #혁님이 요청하신 'HY고딕' 입니다!\n",
    "rc('font', family=font_name)\n",
    "style.use('ggplot')"
   ]
  },
  {
   "cell_type": "markdown",
   "metadata": {},
   "source": [
    "# 가상의 정당, 후보 데이터 생성 (list 안 tuple)"
   ]
  },
  {
   "cell_type": "code",
   "execution_count": 22,
   "metadata": {},
   "outputs": [],
   "source": [
    "# 진한형님께서 Top 5의 후보만 준다고 생각하고 만들어보겠습니다!\n",
    "\n",
    "data1=[(35.2,'더불어민주당'),       \n",
    "       (20.2,'자유한국당'),\n",
    "       (25.5,'바른미래당'),\n",
    "       (14.2,'민주평화당'),\n",
    "       (4.9,'정의당')]\n",
    "\n",
    "data2=[(35.2,'더불어민주당 이형기'),\n",
    "       (20.2,'자유한국당 예성준'),\n",
    "       (25.5,'바른미래당 이원종'),\n",
    "       (14.2,'민주평화당 송윤규'),\n",
    "       (4.9,'정의당 곽노준')]\n",
    "\n",
    "data3=[(35.2,'더불어민주당'),\n",
    "       (20.2,'자유한국당'),\n",
    "       (25.5,'무소속'),\n",
    "       (14.2,'민주평화당'),\n",
    "       (4.9,'바른미래당')]\n",
    "\n",
    "data4=[(35.2,'무소속 서봉원'),\n",
    "       (20.2,'자유한국당 예성준'),\n",
    "       (25.5,'바른미래당 이원종'),\n",
    "       (14.2,'민주평화당 송윤규'),\n",
    "       (4.9,'정의당 곽노준')]"
   ]
  },
  {
   "cell_type": "code",
   "execution_count": 23,
   "metadata": {},
   "outputs": [],
   "source": [
    "import random as rd\n",
    "if rd.random() > 0.25:\n",
    "    data=data1\n",
    "elif rd.random()>0.5:\n",
    "    data=data2\n",
    "elif rd.random()>0.75:\n",
    "    data=data3\n",
    "else:\n",
    "    data=data4"
   ]
  },
  {
   "cell_type": "markdown",
   "metadata": {},
   "source": [
    "# data에 맞는 막대 그래프 색 부여하기"
   ]
  },
  {
   "cell_type": "code",
   "execution_count": 29,
   "metadata": {},
   "outputs": [],
   "source": [
    "parties_color={'더불어민주당': '#2475FF',\n",
    "       '자유한국당': '#CC0000',\n",
    "       '바른미래당': '#00B4B4',  \n",
    "       '민주평화당': '#FFA500',\n",
    "       '정의당': '#FFCC00',\n",
    "       '무소속': '#ffffff' }      "
   ]
  },
  {
   "cell_type": "markdown",
   "metadata": {},
   "source": [
    "# 득표율 순으로 정당 sorting하기"
   ]
  },
  {
   "cell_type": "code",
   "execution_count": 30,
   "metadata": {},
   "outputs": [
    {
     "name": "stdout",
     "output_type": "stream",
     "text": [
      "['더불어민주당', '바른미래당', '자유한국당', '민주평화당', '정의당']\n",
      "[35.2, 25.5, 20.2, 14.2, 4.9]\n",
      "['#2475FF', '#00B4B4', '#CC0000', '#FFA500', '#FFCC00']\n"
     ]
    }
   ],
   "source": [
    "sorted_parties=[]\n",
    "sorted_parties_rates=[]\n",
    "sorted_parties_color=[]\n",
    "\n",
    "sorted_item=sorted(data,reverse=True)\n",
    "\n",
    "for i in range(len(sorted_item)):\n",
    "    sorted_parties.append(sorted_item[i][1].split(' ')[0]) #정당의 이름 가져오기\n",
    "    sorted_parties_rates.append(sorted_item[i][0])\n",
    "\n",
    "for i in sorted_parties:\n",
    "    sorted_parties_color.append(parties_color[i]) #정당의 색 가져오기\n",
    "\n",
    "print(sorted_parties)\n",
    "print(sorted_parties_rates)\n",
    "print(sorted_parties_color)"
   ]
  },
  {
   "cell_type": "markdown",
   "metadata": {},
   "source": [
    "# 득표율 순으로 후보 sorting하기 (input에 후보 data가 있다면)"
   ]
  },
  {
   "cell_type": "code",
   "execution_count": 31,
   "metadata": {},
   "outputs": [],
   "source": [
    "if (len(data[0][1].split(' '))) >1:\n",
    "    sorted_candidates=[]\n",
    "\n",
    "    sorted_item=sorted(data,reverse=True)\n",
    "    for i in range(len(sorted_item)):\n",
    "        sorted_candidates.append(sorted_item[i][1].split(' ')[1]) #후보자들의 이름 가져오기"
   ]
  },
  {
   "cell_type": "markdown",
   "metadata": {},
   "source": [
    "# 정당 plot 그리기(input에 후보 data가 없다면)"
   ]
  },
  {
   "cell_type": "code",
   "execution_count": 32,
   "metadata": {},
   "outputs": [],
   "source": [
    "if (len(data[0][1].split(' '))) ==1:\n",
    "    fig = plt.figure(figsize=(12, 8))\n",
    "    ax = fig.add_subplot(111)\n",
    "    ax.invert_yaxis()\n",
    "\n",
    "    ypos = np.arange(len(sorted_parties))\n",
    "    rects = plt.barh(ypos, sorted_parties_rates, align='center', height=0.6,color=sorted_parties_color,edgecolor='black')\n",
    "    #edgecolor 는 무소속 bar graph를 흰색으로 칠할 때 배경과 더 명확히 구별하기 위해서 넣었습니다.\n",
    "    plt.yticks(ypos, sorted_parties,fontsize=14)\n",
    "\n",
    "    for i, rect in enumerate(rects):\n",
    "        if rect.get_width() < 4:\n",
    "            ax.text(1.46 * rect.get_width(), rect.get_y() + rect.get_height() / 2.0, str(sorted_parties_rates[i]) + '%',fontsize=14, ha='right', va='center')\n",
    "        else:\n",
    "            ax.text(0.95 * rect.get_width(), rect.get_y() + rect.get_height() / 2.0, str(sorted_parties_rates[i]) + '%',fontsize=14, ha='right', va='center')\n",
    "    \n",
    "    plt.xlabel('현재 득표율',fontsize=15)\n",
    "    plt.show()"
   ]
  },
  {
   "cell_type": "markdown",
   "metadata": {},
   "source": [
    "# 새로운 yticks 만들기 (input에 후보 data가 있다면)"
   ]
  },
  {
   "cell_type": "code",
   "execution_count": 33,
   "metadata": {},
   "outputs": [
    {
     "name": "stdout",
     "output_type": "stream",
     "text": [
      "['이형기 \\n(민주당)', '이원종 \\n(미래당)', '예성준 \\n(한국당)', '송윤규 \\n(평화당)', '곽노준 \\n(정의당)']\n"
     ]
    }
   ],
   "source": [
    "if (len(data[0][1].split(' '))) >1:\n",
    "    yticks_name=[]\n",
    "    for i in range(len(sorted_candidates)):\n",
    "        yticks_name.append(sorted_candidates[i]+' _'+'('+sorted_item[i][1].split(' ')[0][-3:]+')')\n",
    "        #print(yticks_name)\n",
    "    \n",
    "    real_yticks=[]\n",
    "    for item in yticks_name:\n",
    "        real_yticks.append(item.replace(\"_\",\"\\n\"))\n",
    "        \n",
    "    print(real_yticks)"
   ]
  },
  {
   "cell_type": "markdown",
   "metadata": {},
   "source": [
    "# 후보 plot 그리기  (input에 후보 data가 있다면)"
   ]
  },
  {
   "cell_type": "code",
   "execution_count": 34,
   "metadata": {
    "scrolled": false
   },
   "outputs": [
    {
     "data": {
      "image/png": "[encoded data removed]",
      "text/plain": [
       "<matplotlib.figure.Figure at 0x1f75caf5dd8>"
      ]
     },
     "metadata": {},
     "output_type": "display_data"
    }
   ],
   "source": [
    "if (len(data[0][1].split(' '))) >1:\n",
    "    fig = plt.figure(figsize=(12, 8))\n",
    "    ax = fig.add_subplot(111)\n",
    "    ax.invert_yaxis()\n",
    "\n",
    "    ypos = np.arange(len(sorted_candidates))\n",
    "    rects = plt.barh(ypos, sorted_parties_rates, align='center', height=0.6,color=sorted_parties_color,edgecolor='black')\n",
    "\n",
    "    plt.yticks(ypos,real_yticks ,fontsize=14)\n",
    "\n",
    "    for i, rect in enumerate(rects):\n",
    "        if rect.get_width() < 4:\n",
    "            ax.text(1.46 * rect.get_width(), rect.get_y() + rect.get_height() / 2.0, str(sorted_parties_rates[i]) + '%',fontsize=14, ha='right', va='center')\n",
    "        else:\n",
    "            ax.text(0.95 * rect.get_width(), rect.get_y() + rect.get_height() / 2.0, str(sorted_parties_rates[i]) + '%',fontsize=14, ha='right', va='center')\n",
    "    plt.xlabel('현재 득표율',fontsize=15)\n",
    "    plt.show()"
   ]
  }
 ],
 "metadata": {
  "kernelspec": {
   "display_name": "Python 3",
   "language": "python",
   "name": "python3"
  },
  "language_info": {
   "codemirror_mode": {
    "name": "ipython",
    "version": 3
   },
   "file_extension": ".py",
   "mimetype": "text/x-python",
   "name": "python",
   "nbconvert_exporter": "python",
   "pygments_lexer": "ipython3",
   "version": "3.6.4"
  }
 },
 "nbformat": 4,
 "nbformat_minor": 2
}
